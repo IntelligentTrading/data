{
 "cells": [
  {
   "cell_type": "code",
   "execution_count": 1,
   "metadata": {},
   "outputs": [
    {
     "name": "stderr",
     "output_type": "stream",
     "text": [
      "DEBUG:botocore.session:Loading variable profile from defaults.\n",
      "DEBUG:botocore.session:Loading variable config_file from defaults.\n",
      "DEBUG:botocore.session:Loading variable credentials_file from defaults.\n",
      "DEBUG:botocore.session:Loading variable data_path from defaults.\n",
      "DEBUG:botocore.session:Loading variable profile from defaults.\n",
      "DEBUG:botocore.session:Loading variable ca_bundle from defaults.\n",
      "DEBUG:botocore.session:Loading variable profile from defaults.\n",
      "DEBUG:botocore.session:Loading variable api_versions from defaults.\n",
      "DEBUG:botocore.loaders:Loading JSON file: /Users/lexnex/.pyenv/versions/data/lib/python3.6/site-packages/botocore/data/endpoints.json\n",
      "DEBUG:botocore.session:Loading variable profile from defaults.\n",
      "DEBUG:botocore.hooks:Event choose-service-name: calling handler <function handle_service_name_alias at 0x10fe86840>\n",
      "DEBUG:botocore.loaders:Loading JSON file: /Users/lexnex/.pyenv/versions/data/lib/python3.6/site-packages/botocore/data/firehose/2015-08-04/service-2.json\n",
      "DEBUG:botocore.hooks:Event creating-client-class.firehose: calling handler <function add_generate_presigned_url at 0x10fe550d0>\n",
      "DEBUG:botocore.args:The s3 config key is not a dictionary type, ignoring its value of: None\n",
      "DEBUG:botocore.endpoint:Setting firehose timeout as (60, 60)\n",
      "DEBUG:botocore.loaders:Loading JSON file: /Users/lexnex/.pyenv/versions/data/lib/python3.6/site-packages/botocore/data/_retry.json\n",
      "DEBUG:botocore.client:Registering retry handlers for service: firehose\n"
     ]
    }
   ],
   "source": [
    "from apps.channel import *\n",
    "from apps.channel.history import *\n",
    "from apps.channel.kinesis_firehose import *\n",
    "from apps.channel.aws import *\n",
    "import time\n",
    "import datetime\n",
    "#now = datetime.datetime.now() # float timestamp like from time.time()\n",
    "now = 1483231200000.00\n",
    "firehose = aws_client('firehose')\n",
    "#streamname = 'itf-data-stage-historical'\n",
    "streamname = 'itf-firehose-test'\n",
    "# timestamp = float(1483232400000)\n",
    "# tmstmp_str = \"2015-04-23 21:08:34.152923000\"\n",
    "r=history_record(timestamp=now, close=2.5, volume=5.0, origin='test')\n",
    "#r1 = history_record(timestamp=tmstmp_str, close=4.0, volume=4.5, origin='test2')"
   ]
  },
  {
   "cell_type": "code",
   "execution_count": 2,
   "metadata": {},
   "outputs": [
    {
     "name": "stderr",
     "output_type": "stream",
     "text": [
      "DEBUG:apps.channel.kinesis_firehose:Put record to Kinesis stream: {'timestamp': 1483231200000.0, 'close': 2.5, 'volume': 5.0, 'origin': 'test'}\n",
      "DEBUG:botocore.hooks:Event before-parameter-build.firehose.PutRecord: calling handler <function generate_idempotent_uuid at 0x10fe9fbf8>\n",
      "DEBUG:botocore.endpoint:Making request for OperationModel(name=PutRecord) (verify_ssl=True) with params: {'url_path': '/', 'query_string': '', 'method': 'POST', 'headers': {'X-Amz-Target': 'Firehose_20150804.PutRecord', 'Content-Type': 'application/x-amz-json-1.1', 'User-Agent': 'Boto3/1.7.22 Python/3.6.4 Darwin/17.5.0 Botocore/1.10.22'}, 'body': b'{\"DeliveryStreamName\": \"itf-firehose-test\", \"Record\": {\"Data\": \"eyJ0aW1lc3RhbXAiOiAxNDgzMjMxMjAwMDAwLjAsICJjbG9zZSI6IDIuNSwgInZvbHVtZSI6IDUuMCwgIm9yaWdpbiI6ICJ0ZXN0In0=\"}}', 'url': 'https://firehose.us-east-1.amazonaws.com/', 'context': {'client_region': 'us-east-1', 'client_config': <botocore.config.Config object at 0x110465b00>, 'has_streaming_input': False, 'auth_type': None}}\n",
      "DEBUG:botocore.hooks:Event request-created.firehose.PutRecord: calling handler <bound method RequestSigner.handler of <botocore.signers.RequestSigner object at 0x110465a58>>\n",
      "DEBUG:botocore.hooks:Event choose-signer.firehose.PutRecord: calling handler <function set_operation_specific_signer at 0x10fe9fae8>\n",
      "DEBUG:botocore.auth:Calculating signature using v4 auth.\n",
      "DEBUG:botocore.auth:CanonicalRequest:\n",
      "POST\n",
      "/\n",
      "\n",
      "content-type:application/x-amz-json-1.1\n",
      "host:firehose.us-east-1.amazonaws.com\n",
      "x-amz-date:20180518T123724Z\n",
      "x-amz-target:Firehose_20150804.PutRecord\n",
      "\n",
      "content-type;host;x-amz-date;x-amz-target\n",
      "77926f430af5c405e3cd9f19eb39384a268600e61e14dedb0c1e3e9006716913\n",
      "DEBUG:botocore.auth:StringToSign:\n",
      "AWS4-HMAC-SHA256\n",
      "20180518T123724Z\n",
      "20180518/us-east-1/firehose/aws4_request\n",
      "c3e9de04b08c9faf1dbb15da21bb60d43d15a795608acf0e41e28a9869e762e0\n",
      "DEBUG:botocore.auth:Signature:\n",
      "c4d6f1d1429b8950dd3d0ef13cb5a7db604355eba2136568a73d4f6727af83ad\n",
      "DEBUG:botocore.endpoint:Sending http request: <PreparedRequest [POST]>\n",
      "INFO:botocore.vendored.requests.packages.urllib3.connectionpool:Starting new HTTPS connection (1): firehose.us-east-1.amazonaws.com\n",
      "DEBUG:botocore.vendored.requests.packages.urllib3.connectionpool:\"POST / HTTP/1.1\" 200 239\n",
      "DEBUG:botocore.parsers:Response headers: {'x-amzn-requestid': 'a88958eb-628b-4479-a3db-d0672beb4584', 'x-amz-id-2': 'vzjtxCXtZncIML0GT+a0CyL5I0+RpTLqPEdVxu9LFKm5BTp59/cwQlbgaoGEyJuW/bUGVOPEmM2xjli3sYmTRw==', 'content-type': 'application/x-amz-json-1.1', 'content-length': '239', 'date': 'Fri, 18 May 2018 12:37:25 GMT'}\n",
      "DEBUG:botocore.parsers:Response body:\n",
      "b'{\"RecordId\":\"TxLLJ9gW0IG2r+tn/sZPtAXGyNN89uwHoJZwQgoiO/kmC5mycAIBS/PKPFWgqaEQENhUMp/E8tA+va+Ix1FhEtIHbZJwVnXS4fKdsvA4vOYYPeycdfB2FVPIBgY27+1h772eWbaQg026W2n2J7KpdzQgWD6n8ExNxe/pE1HHJE2SU644+nQbEoOOSLbPGNizEVCs3eamaIOx5Kl8V1PMw2X6EwA5zR0m\"}'\n",
      "DEBUG:botocore.hooks:Event needs-retry.firehose.PutRecord: calling handler <botocore.retryhandler.RetryHandler object at 0x110465d30>\n",
      "DEBUG:botocore.retryhandler:No retry needed.\n",
      "DEBUG:apps.channel.kinesis_firehose:>>> Record put to Kinesis with response: {'RecordId': 'TxLLJ9gW0IG2r+tn/sZPtAXGyNN89uwHoJZwQgoiO/kmC5mycAIBS/PKPFWgqaEQENhUMp/E8tA+va+Ix1FhEtIHbZJwVnXS4fKdsvA4vOYYPeycdfB2FVPIBgY27+1h772eWbaQg026W2n2J7KpdzQgWD6n8ExNxe/pE1HHJE2SU644+nQbEoOOSLbPGNizEVCs3eamaIOx5Kl8V1PMw2X6EwA5zR0m', 'ResponseMetadata': {'RequestId': 'a88958eb-628b-4479-a3db-d0672beb4584', 'HTTPStatusCode': 200, 'HTTPHeaders': {'x-amzn-requestid': 'a88958eb-628b-4479-a3db-d0672beb4584', 'x-amz-id-2': 'vzjtxCXtZncIML0GT+a0CyL5I0+RpTLqPEdVxu9LFKm5BTp59/cwQlbgaoGEyJuW/bUGVOPEmM2xjli3sYmTRw==', 'content-type': 'application/x-amz-json-1.1', 'content-length': '239', 'date': 'Fri, 18 May 2018 12:37:25 GMT'}, 'RetryAttempts': 0}}\n"
     ]
    }
   ],
   "source": [
    "res = put_record_to_kinesis_firehose_stream(r, streamname, firehose)"
   ]
  },
  {
   "cell_type": "code",
   "execution_count": null,
   "metadata": {},
   "outputs": [],
   "source": []
  },
  {
   "cell_type": "code",
   "execution_count": null,
   "metadata": {},
   "outputs": [],
   "source": []
  },
  {
   "cell_type": "code",
   "execution_count": null,
   "metadata": {},
   "outputs": [],
   "source": []
  }
 ],
 "metadata": {
  "kernelspec": {
   "display_name": "Django Shell-Plus",
   "language": "python",
   "name": "django_extensions"
  },
  "language_info": {
   "codemirror_mode": {
    "name": "ipython",
    "version": 3
   },
   "file_extension": ".py",
   "mimetype": "text/x-python",
   "name": "python",
   "nbconvert_exporter": "python",
   "pygments_lexer": "ipython3",
   "version": "3.6.4"
  }
 },
 "nbformat": 4,
 "nbformat_minor": 2
}
